{
  "nbformat": 4,
  "nbformat_minor": 0,
  "metadata": {
    "colab": {
      "provenance": [],
      "mount_file_id": "17lVqIVTeB3h1xlbDK7myM7d4KqguXZYK",
      "authorship_tag": "ABX9TyNvSOXJNgtH+LT1edRnFjce",
      "include_colab_link": true
    },
    "kernelspec": {
      "name": "python3",
      "display_name": "Python 3"
    },
    "language_info": {
      "name": "python"
    }
  },
  "cells": [
    {
      "cell_type": "markdown",
      "metadata": {
        "id": "view-in-github",
        "colab_type": "text"
      },
      "source": [
        "<a href=\"https://colab.research.google.com/github/rarkis/Mundo1-Missao5/blob/main/Miss%C3%A3o_Pr%C3%A1tica_5.ipynb\" target=\"_parent\"><img src=\"https://colab.research.google.com/assets/colab-badge.svg\" alt=\"Open In Colab\"/></a>"
      ]
    },
    {
      "cell_type": "markdown",
      "source": [
        "<img src='https://logodownload.org/wp-content/uploads/2014/12/estacio-logo.png' width=\"300\">  \n",
        "Curso: Desenvolvimento Full Stack  - Turma: 22.3  \n",
        "Polo Parque Eloy Chaves - Jundiaí-SP  \n",
        "Disciplina: Colocando Tudo em Ordem e Guardando  \n",
        "Alison Mendes - 202208906893  "
      ],
      "metadata": {
        "id": "3Eqa2vXi9umW"
      }
    },
    {
      "cell_type": "markdown",
      "source": [
        "# Missão Prática - Mundo 1, Nível 5\n",
        "Implementação de um programa para manipular dados de um arquivo texto e visualizá-los em um histograma e nuvem de palavras."
      ],
      "metadata": {
        "id": "RSqLjeaj8PPy"
      }
    },
    {
      "cell_type": "markdown",
      "source": [
        "## Objetivo da Prática\n",
        "* Gerar dados de testes.  \n",
        "* Gravar e recuperar dados de arquivos textos.  \n",
        "* Manipular os dados para visualizá-los em um histograma.  \n",
        "* Manipular os dados para visualizá-los em uma nuvem de palavras.  \n",
        "* No final do projeto, o aluno vai ter implementado um programa para gerar dados com nomes de pessoas e respectivas pontuações, gravar em um arquivo, recuperar os dados do arquivo, visualizar os dados das pontuações das pessoas em um histograma e em uma nuvem de palavras.\n",
        "\n",
        "\n",
        "\n"
      ],
      "metadata": {
        "id": "zW6xaCDj8mnl"
      }
    },
    {
      "cell_type": "markdown",
      "source": [
        "## Geração de dados"
      ],
      "metadata": {
        "id": "EM0Lk6NGIGQ-"
      }
    },
    {
      "cell_type": "code",
      "execution_count": 31,
      "metadata": {
        "colab": {
          "base_uri": "https://localhost:8080/"
        },
        "id": "kM8hxws2x0gR",
        "outputId": "87dd2675-94dd-4749-a3e0-5f689b7976e3"
      },
      "outputs": [
        {
          "output_type": "stream",
          "name": "stdout",
          "text": [
            "Looking in indexes: https://pypi.org/simple, https://us-python.pkg.dev/colab-wheels/public/simple/\n",
            "Requirement already satisfied: Faker in /usr/local/lib/python3.7/dist-packages (15.3.3)\n",
            "Requirement already satisfied: typing-extensions>=3.10.0.1 in /usr/local/lib/python3.7/dist-packages (from Faker) (4.1.1)\n",
            "Requirement already satisfied: python-dateutil>=2.4 in /usr/local/lib/python3.7/dist-packages (from Faker) (2.8.2)\n",
            "Requirement already satisfied: six>=1.5 in /usr/local/lib/python3.7/dist-packages (from python-dateutil>=2.4->Faker) (1.15.0)\n"
          ]
        }
      ],
      "source": [
        "!pip install Faker"
      ]
    },
    {
      "cell_type": "markdown",
      "source": [
        "Definição do gerador de amostras.  \n",
        "Pra gerar uma amostra/gráfico mais interessante, as notas podem ser decimais, e notas mais altas tem mais chance de serem incluídas na amostra."
      ],
      "metadata": {
        "id": "SAzCkoamVoy-"
      }
    },
    {
      "cell_type": "code",
      "source": [
        "def gerar_amostra(n_amostras = 1):\n",
        "  from faker import Faker\n",
        "  from random import randint,choices\n",
        "  fake = Faker('pt_BR')\n",
        "  texto = ''\n",
        "  for _ in range(n_amostras):\n",
        "    nome = fake.name()\n",
        "    pnts = choices([i+1for i in range(100)], weights=[i+1 for i in range(100)],k=1)[0]/10\n",
        "    # pnts = randint(1,10)\n",
        "    texto += f'{nome},{pnts}\\n'\n",
        "  return texto  "
      ],
      "metadata": {
        "id": "1zMq1yq4AtAU"
      },
      "execution_count": 32,
      "outputs": []
    },
    {
      "cell_type": "markdown",
      "source": [
        "## Gravação em arquivo"
      ],
      "metadata": {
        "id": "Lv6Y1dgaIQM2"
      }
    },
    {
      "cell_type": "markdown",
      "source": [
        "Definição da função que salva conteúdo em arquivo.\n",
        "Foi utilizado o mode de escrita 'w' pra que fosse gerada sempre uma amostra completamente nova durante os testes."
      ],
      "metadata": {
        "id": "qxEpAgSwBMQq"
      }
    },
    {
      "cell_type": "code",
      "source": [
        "def salvar_arquivo(filename,conteudo):\n",
        "  with open(filename,'w') as file_obj:\n",
        "    file_obj.write(conteudo)"
      ],
      "metadata": {
        "id": "8Kv5XZ_M_6jF"
      },
      "execution_count": 33,
      "outputs": []
    },
    {
      "cell_type": "markdown",
      "source": [
        "Chamada da geração de 1000000 amostras e gravação dos dados no arquivo \"amostra.txt\""
      ],
      "metadata": {
        "id": "6AiE30lU_Z1l"
      }
    },
    {
      "cell_type": "code",
      "source": [
        "salvar_arquivo('amostra.txt', str(gerar_amostra(10000)))"
      ],
      "metadata": {
        "id": "nZJucuAo_UMW"
      },
      "execution_count": 34,
      "outputs": []
    },
    {
      "cell_type": "markdown",
      "source": [
        "## Recuperação de dados de arquivo"
      ],
      "metadata": {
        "id": "wWNBbqrkIWi5"
      }
    },
    {
      "cell_type": "markdown",
      "source": [
        "Definição da função que recupera os nomes e pontuação do arquivo.  \n",
        "A função foi implementada como um generator por que eu planejei ler o arquivo aos poucos, mas ao final não utilizei essa funcionalidade na implementação final."
      ],
      "metadata": {
        "id": "xlHOoBX8B057"
      }
    },
    {
      "cell_type": "code",
      "source": [
        "def do_arquivo(filename='arquivo.txt'):\n",
        "  try:\n",
        "    with open(filename,'r') as file_obj:\n",
        "      for linha in file_obj.readlines():\n",
        "        nome,pts = linha.split(',')\n",
        "        pts = float(pts.strip('\\n'))\n",
        "        yield {'nome':nome,'pontos':pts}\n",
        "  except: raise Exception(f'arquivo {filename} não encontrado')"
      ],
      "metadata": {
        "id": "VrfsDgPlw554"
      },
      "execution_count": 35,
      "outputs": []
    },
    {
      "cell_type": "markdown",
      "source": [
        "## Apresentação de dados em Histograma"
      ],
      "metadata": {
        "id": "YX-FwP9wI0v_"
      }
    },
    {
      "cell_type": "markdown",
      "source": [
        "### Definição das funções utilizadas no histograma"
      ],
      "metadata": {
        "id": "Bpt0pXH_UyTX"
      }
    },
    {
      "cell_type": "markdown",
      "source": [
        "Definição da função que separa as pontuações dos dados de arquivo.  \n",
        "Novamente, implementadas como generators com a intenção de fazer leitura gradual de volume arbitrário de dados."
      ],
      "metadata": {
        "id": "P5DsaGDnEvry"
      }
    },
    {
      "cell_type": "code",
      "source": [
        "# Arredonda o valor da pontuação\n",
        "def round_pontos(filename='arquivo.txt'):\n",
        "  for item in do_arquivo(filename):\n",
        "    yield round( item['pontos'])\n",
        "    \n",
        "def pontos(filename='arquivo.txt'):\n",
        "  for item in do_arquivo(filename):\n",
        "    yield item['pontos']"
      ],
      "metadata": {
        "id": "AhfPo1EhcMr7"
      },
      "execution_count": 36,
      "outputs": []
    },
    {
      "cell_type": "markdown",
      "source": [
        "Definição da função que gera o histograma"
      ],
      "metadata": {
        "id": "3W2suH1eFGuR"
      }
    },
    {
      "cell_type": "code",
      "source": [
        "#gerar histograma\n",
        "def gerar_hist(dados):\n",
        "  import matplotlib.pyplot as plt\n",
        "  n_pts=11\n",
        "  plt.hist(dados, n_pts,density=True,facecolor='red')\n",
        "\n",
        "  plt.xlabel('Pontuação')\n",
        "  plt.ylabel('Incidência')\n",
        "  plt.title('Histograma das pontuações')\n",
        "  plt.grid(True)\n",
        "  plt.show()"
      ],
      "metadata": {
        "id": "AXFzC6gAfMoM"
      },
      "execution_count": 37,
      "outputs": []
    },
    {
      "cell_type": "markdown",
      "source": [
        "### Chamada do histograma com a lista de pontuação coletada\n",
        "Na vizualização do histograma fica evidente a tendencia utilizada na geração dos dados"
      ],
      "metadata": {
        "id": "Hr0hqCnKFPhV"
      }
    },
    {
      "cell_type": "code",
      "source": [
        "gerar_hist(list(round_pontos('amostra.txt')))"
      ],
      "metadata": {
        "colab": {
          "base_uri": "https://localhost:8080/",
          "height": 295
        },
        "id": "EVArfCV__z0J",
        "outputId": "273eaba5-b9f3-4235-fbec-833b55666f47"
      },
      "execution_count": 38,
      "outputs": [
        {
          "output_type": "display_data",
          "data": {
            "text/plain": [
              "<Figure size 432x288 with 1 Axes>"
            ],
            "image/png": "[encoded data removed]"
          },
          "metadata": {
            "needs_background": "light"
          }
        }
      ]
    },
    {
      "cell_type": "markdown",
      "source": [
        "## Apresentação de dados em núvem de palavras"
      ],
      "metadata": {
        "id": "Z7Mh8UvUI5Pz"
      }
    },
    {
      "cell_type": "markdown",
      "source": [
        "### Definições"
      ],
      "metadata": {
        "id": "JEAragNcU7pz"
      }
    },
    {
      "cell_type": "code",
      "source": [
        "!pip install wordcloud"
      ],
      "metadata": {
        "colab": {
          "base_uri": "https://localhost:8080/"
        },
        "id": "pkeUqkTuyhYz",
        "outputId": "5435c703-d476-432b-9ff9-9eaac37eec67"
      },
      "execution_count": 39,
      "outputs": [
        {
          "output_type": "stream",
          "name": "stdout",
          "text": [
            "Looking in indexes: https://pypi.org/simple, https://us-python.pkg.dev/colab-wheels/public/simple/\n",
            "Requirement already satisfied: wordcloud in /usr/local/lib/python3.7/dist-packages (1.8.2.2)\n",
            "Requirement already satisfied: numpy>=1.6.1 in /usr/local/lib/python3.7/dist-packages (from wordcloud) (1.21.6)\n",
            "Requirement already satisfied: pillow in /usr/local/lib/python3.7/dist-packages (from wordcloud) (7.1.2)\n",
            "Requirement already satisfied: matplotlib in /usr/local/lib/python3.7/dist-packages (from wordcloud) (3.2.2)\n",
            "Requirement already satisfied: pyparsing!=2.0.4,!=2.1.2,!=2.1.6,>=2.0.1 in /usr/local/lib/python3.7/dist-packages (from matplotlib->wordcloud) (3.0.9)\n",
            "Requirement already satisfied: cycler>=0.10 in /usr/local/lib/python3.7/dist-packages (from matplotlib->wordcloud) (0.11.0)\n",
            "Requirement already satisfied: python-dateutil>=2.1 in /usr/local/lib/python3.7/dist-packages (from matplotlib->wordcloud) (2.8.2)\n",
            "Requirement already satisfied: kiwisolver>=1.0.1 in /usr/local/lib/python3.7/dist-packages (from matplotlib->wordcloud) (1.4.4)\n",
            "Requirement already satisfied: typing-extensions in /usr/local/lib/python3.7/dist-packages (from kiwisolver>=1.0.1->matplotlib->wordcloud) (4.1.1)\n",
            "Requirement already satisfied: six>=1.5 in /usr/local/lib/python3.7/dist-packages (from python-dateutil>=2.1->matplotlib->wordcloud) (1.15.0)\n"
          ]
        }
      ]
    },
    {
      "cell_type": "markdown",
      "source": [
        "Retorna string equivalente a cada pontuação inteira possível"
      ],
      "metadata": {
        "id": "C_8PR8wLFf1Y"
      }
    },
    {
      "cell_type": "code",
      "source": [
        "#retorna os numeros como texto\n",
        "def num_extenso(numero):\n",
        "  try:\n",
        "    return {0:'ZERO', 1:'UM', 2:'DOIS', 3:'TRÊS', 4:'QUATRO', 5:'CINCO', \n",
        "            6:'SEIS', 7:'SETE', 8:'OITO', 9:'NOVE', 10:'DEZ'}[numero]\n",
        "  except:\n",
        "    #ignora numeros inválidos que porventura entrem no conjunto de dados\n",
        "    return '' "
      ],
      "metadata": {
        "id": "CJdjYWfihV40"
      },
      "execution_count": 40,
      "outputs": []
    },
    {
      "cell_type": "code",
      "source": [
        "#converte e concatena os numeros em texto\n",
        "def to_string(pontos):\n",
        "  texto='' \n",
        "  for item in pontos:\n",
        "    texto += f' {num_extenso(item)}'\n",
        "  return texto\n",
        "# print(to_string(round_pontos('amostra.txt')))"
      ],
      "metadata": {
        "id": "BsoNmyX0ZUZH"
      },
      "execution_count": 41,
      "outputs": []
    },
    {
      "cell_type": "code",
      "source": [
        "#gerar nuvem de palavras\n",
        "def gerar_nuvem(texto):\n",
        "  from wordcloud import WordCloud\n",
        "  import matplotlib.pyplot as plt\n",
        "\n",
        "  # nuvem_palavras = WordCloud(width=800,height=400).generate(texto)\n",
        "  nuvem_palavras = WordCloud(background_color=\"rgba(255, 255, 255, 0)\",\n",
        "                             mode=\"RGBA\", width=800,height=800).generate(texto)\n",
        "  plt.imshow(nuvem_palavras, interpolation='bilinear')\n",
        "  plt.axis(\"off\")\n",
        "  # nuvem_palavras.to_file(\"Nuvem de palavras.png\")\n",
        "  plt.savefig(\"Nuvem de palavras.png\",transparent = True)\n"
      ],
      "metadata": {
        "id": "c6GdoCJAhDM4"
      },
      "execution_count": 42,
      "outputs": []
    },
    {
      "cell_type": "markdown",
      "source": [
        "### Chamada do gerador de núvem"
      ],
      "metadata": {
        "id": "aw5c9RPMVGnf"
      }
    },
    {
      "cell_type": "code",
      "source": [
        "gerar_nuvem(str(to_string(round_pontos('amostra.txt'))))"
      ],
      "metadata": {
        "colab": {
          "base_uri": "https://localhost:8080/",
          "height": 248
        },
        "id": "KZg2XRBtVDVE",
        "outputId": "93ca3d0e-7ffd-4e0a-cc5c-77ddd9f32201"
      },
      "execution_count": 43,
      "outputs": [
        {
          "output_type": "display_data",
          "data": {
            "text/plain": [
              "<Figure size 432x288 with 1 Axes>"
            ],
            "image/png": "[encoded data removed]"
          },
          "metadata": {
            "needs_background": "light"
          }
        }
      ]
    },
    {
      "cell_type": "markdown",
      "source": [
        "## Conclusão\n",
        "* A importancia de manipular arquivos de texto  \n",
        "\n",
        "  A manipulação de arquivos de texto oferece um meio intermediário de se lidar com grande volume da dados e extrair dele tipos diferentes de informações que podem então ser manipuladas de maneiras diferentes, mas adequadas para cadaobjetivo  \n",
        "\n",
        "* A importancia de visualizar os dados em um histograma  \n",
        "\n",
        "  Histogramas oferencem uma maneira rápida de visualizar a distribuição de cada um dos valores em um conjuntos de dados númericos.  \n",
        "\n",
        "* O que significa visualização por núvel de palavras.  \n",
        "  Do mesmo modo, núvens de palavras oferecem uma maneira rápida de vizualizar as ocorrencias de cada palavra em um texto. \n"
      ],
      "metadata": {
        "id": "YICtlcXCmj3w"
      }
    }
  ]
}